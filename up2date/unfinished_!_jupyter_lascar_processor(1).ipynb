{
  "metadata": {
    "kernelspec": {
      "name": "python",
      "display_name": "Python (Pyodide)",
      "language": "python"
    },
    "language_info": {
      "codemirror_mode": {
        "name": "python",
        "version": 3
      },
      "file_extension": ".py",
      "mimetype": "text/x-python",
      "name": "python",
      "nbconvert_exporter": "python",
      "pygments_lexer": "ipython3",
      "version": "3.8"
    }
  },
  "nbformat_minor": 5,
  "nbformat": 4,
  "cells": [
    {
      "id": "a84ead7e-67ad-4b21-8316-93c39e4333cf",
      "cell_type": "code",
      "source": "# Welcome to the Lahmas Lab Lascar Data Processor!\n# Please answer the questions below and run your code directly in a jupyter notebook.\n\n# Where is the folder you would like to process?\nfolder_path = r'' # Use 'copy path' within Jupyter Lab\n\n# What are the labels for each variable in the .csv files?\n# NOTE ! : If the label has a speciel character in it you may have to open the file in 'Editor' to copy and paste the symbol.\ntime_name = '' # Label of time variable\ntemp_name = '' # Label of temperature variable\nrh_name = '' # Label of relative humidity variable\ntd_name = '' # Label of dew point temperature variable\n\n# What is the date format? (eg. %Y-%m-%d %H:%M:%S)\ndate_format = ''\n\n# What will the name be of your new files folder?\nnew_files_name = ''\n\n# What will the name be of your new plots folder?\nnew_plots_name = ''",
      "metadata": {
        "editable": true,
        "slideshow": {
          "slide_type": ""
        },
        "tags": [],
        "trusted": true
      },
      "outputs": [],
      "execution_count": null
    },
    {
      "id": "6f25adac-ed3e-497e-9a42-4a5dfd84a238",
      "cell_type": "code",
      "source": "# Importing all necessary modules\n\nimport numpy as np\nimport os\nimport matplotlib.pyplot as plt\nimport pandas as pd\nimport matplotlib.dates as mdates\nfrom datetime import datetime\nimport io",
      "metadata": {
        "trusted": true,
        "jupyter": {
          "source_hidden": true
        }
      },
      "outputs": [],
      "execution_count": null
    },
    {
      "id": "b7d1e4d2-b911-4223-94f2-c40e17c64f02",
      "cell_type": "code",
      "source": "# Global Variable Editor - DO NOT CHANGE UNLESS YOU ARE SURE\n# This block holds all standardized global variables and formatting styles for the output files.\n\n# Standard Date Format\nstd_date_format = '%Y-%m-%d %H:%M:%S'\n\n# Dataframe Label Names\nstd_time_name = 'Datetime (YYYY-MM-DD HH:mm:ss)'\nstd_temp_name = 'Temperature (deg C)'\nstd_rh_name = 'RH (%)'\nstd_td_name = 'Dew Point (deg C)'\nrh_cor_name = 'RH Corrected (%)'\ntd_cor_name = 'Dew Point Corrected (deg C)'\n\n# Plot labels\nplot_time_label = 'Time (YYYY/MM)'\nplot_temp_label = std_temp_name\nplot_rh_label = std_rh_name\n\n# Time Index Name\ntime_index = 'Time Index'",
      "metadata": {
        "trusted": true,
        "jupyter": {
          "source_hidden": true
        }
      },
      "outputs": [],
      "execution_count": null
    },
    {
      "id": "0126f41d-4867-4d09-821f-69449ee03a1b",
      "cell_type": "code",
      "source": "# Creating the new folder where all the processed files will end up.\n\nnew_files_name = '1_' + new_files_name\n\nif os.path.exists(new_files_name):\n    print('\\nThis folder already exists!\\n\\nIf you wish to continue with this folder anyway, \\\nrun the next block.\\nOtherwise, rewrite the folder path/name in block 1.\\n')\n\nelse:\n    os.makedirs(new_files_name)\n    print('\\nYour new folder is:\\n\"', new_files_name, '\"\\n\\nRun next block\\n')",
      "metadata": {
        "trusted": true,
        "jupyter": {
          "source_hidden": true
        }
      },
      "outputs": [],
      "execution_count": null
    },
    {
      "id": "c4cf6464-3af5-457c-9768-7b9d43d5f794",
      "cell_type": "code",
      "source": "# Creating the new folder where all the plots will end up.\n\nnew_plots_name = '2_' + new_plots_name\n\nif os.path.exists(new_plots_name):\n    print('\\nThis folder already exists!\\n\\nIf you wish to continue with this folder anyway, \\\nrun the next block.\\nOtherwise, rewrite the folder path/name in block 1.\\n')\n\nelse:\n    os.makedirs(new_plots_name)\n    print('\\nYour new folder is:\\n\"', new_plots_name, '\"\\n\\nRun next block\\n')",
      "metadata": {
        "trusted": true,
        "jupyter": {
          "source_hidden": true
        }
      },
      "outputs": [],
      "execution_count": null
    },
    {
      "id": "28e29bb0-6b9c-4596-95e8-b25f877af5df",
      "cell_type": "code",
      "source": "# File initialization function\n\ndef file_initialize(file_path, time_name, rh_name, td_name):\n\n    ### INITIALIZATION\n    \n    # Prints selected file name\n    print(\"Initializing file:\", os.path.basename(file_path), '\\n')\n\n    # Converting .csv in ANSI encoding to UTF-8 encoding\n    try:\n        df = pd.read_csv(file_path, encoding='ANSI')\n        df.to_csv(file_path, encoding='utf-8', index=False)\n        dataframe = pd.read_csv(file_path)\n\n    except:\n        dataframe = pd.read_csv(file_path)\n    \n    # Skips first values as they may have been taken & tainted during installation\n    dataframe = dataframe.iloc[5:].reset_index(drop=True)\n    \n    # Changes time string to datetime type\n    dataframe[time_index] = pd.to_datetime(dataframe[time_name], format = date_format)\n    \n    # Changing date format to standard\n    dataframe[time_index] = pd.to_datetime(dataframe[time_index]).dt.strftime(std_date_format)\n    \n    # Updating the time column to standard datetime format\n    dataframe[time_name] = dataframe[time_index]\n    \n    \n    ## RH and Td correction\n    \n    # Creating lists to insert corrected RH and Td values\n    RH_cor = [None] * len(dataframe)\n    Td_cor = [None] * len(dataframe)\n    \n    # Iterating through rows to update RH values out of 0-100% range and Td values.\n    for i in range(0,len(dataframe)):\n        if dataframe.loc[i, rh_name] > 100:\n            RH_cor[i] = 100 # RH is adjusted to 100% as it must be saturated\n            Td_cor[i] = dataframe.loc[i, temp_name] # Td is equal to T\n        \n        else: # Everything stays the same\n            RH_cor[i] = dataframe.loc[i, rh_name]\n            Td_cor[i] = dataframe.loc[i, td_name]\n            \n    # Creating columns for the lists to merge into the dataframe\n    dataframe[rh_cor_name] = RH_cor\n    dataframe[td_cor_name] = Td_cor\n    \n    return dataframe",
      "metadata": {
        "trusted": true,
        "jupyter": {
          "source_hidden": true
        }
      },
      "outputs": [],
      "execution_count": null
    },
    {
      "id": "47025fa2-6768-4dc6-9572-eff84a11b7dc",
      "cell_type": "code",
      "source": "# Function writing a new .csv in your new folder\n\ndef write_csv(basename, dataframe):\n\n    # Creating new file path and name\n    new_file_path = new_files_name + '/PROCESSED_' + os.path.basename(basename)\n    new_file_path = new_file_path.replace('txt', 'csv')\n    \n    # Prints selected file name\n    print('Writing new file:', os.path.basename(new_file_path), '\\n')\n\n    # Renaming labels to standard\n    dataframe.rename(columns={time_name: std_time_name,\n                              temp_name: std_temp_name,\n                              rh_name: std_rh_name,\n                              td_name: std_td_name}, inplace=True)\n    \n    # Removing custom index\n    dataframe.reset_index(drop=True, inplace=True)\n    \n    # Writing the new dataframe to your computer\n    dataframe.to_csv(new_file_path, index=False, encoding='utf-8-sig')",
      "metadata": {
        "editable": true,
        "slideshow": {
          "slide_type": ""
        },
        "tags": [],
        "trusted": true,
        "jupyter": {
          "source_hidden": true
        }
      },
      "outputs": [],
      "execution_count": null
    },
    {
      "id": "52dae39c-b4d7-4279-97a3-b3dd4ee2dc44",
      "cell_type": "code",
      "source": "# Window selector function\n\ndef find_valid_windows(dataframe, column_subset=None, min_window_size=1):\n\n    print('Calculating Data Window(s)\\n')\n\n    print('The following time windows contain data, please choose a start and end date for visualization (must be on the hour).\\n',\n          'You can input \\'all\\' to visualize everything or eg. \\'2003/10/17 21:00:00\\'.\\n')\n    \n    # Step 1: Ensure datetime index and sort it\n    dataframe = dataframe.set_index(time_index, drop=True)\n    dataframe.index = pd.to_datetime(dataframe.index).strftime(std_date_format)\n    dataframe.index = pd.DatetimeIndex(dataframe.index)\n    \n    # Step 2: Compute time differences\n    time_diffs = dataframe.index.to_series().diff()\n    \n    # Step 3: Identify breaks (difference not equal to 1 hour)\n    one_hour = pd.Timedelta(hours=1)\n    breaks = time_diffs != one_hour\n    \n    # Step 4: Assign group IDs\n    group_id = breaks.cumsum()\n    \n    # Step 5: Group by ID and extract start/end of each group\n    sequences = dataframe.groupby(group_id).apply(lambda g: (g.index[0], g.index[-1]))\n    \n    # Step 6: Convert to list of (start, end) tuples\n    continuous_sequences = sequences.tolist()\n    \n    # Output the sequences\n    ticker = 0\n    \n    for start, end in continuous_sequences:\n        if pd.isnull(start):\n            continue\n        else:\n            #print(f\"Start: {start}, End: {end}\")\n            ticker = ticker + 1\n            print('Window', ticker, ': ', start, 'until', end, '\\t')\n    \n    return",
      "metadata": {
        "trusted": true,
        "jupyter": {
          "source_hidden": true
        }
      },
      "outputs": [],
      "execution_count": null
    },
    {
      "id": "746bb0bc-bd63-44bc-ab31-fbd80bf4400f",
      "cell_type": "code",
      "source": "# Window framer - REALLY NEEDS CLEANING UP !!!\n\ndef window_framer(data, window_start, window_end):\n    ## Initializing daily and monthly temperature averages for plotting\n\n    # adjust the number of rows to skip if needed, to avoid potential abberant data points \n    #dataframe = dataframe.iloc[50:].reset_index(drop=True)\n\n    dataframe = data.set_index(time_index, drop=True)\n    dataframe.index = pd.to_datetime(dataframe.index).strftime(std_date_format)\n    dataframe = dataframe.loc[dataframe.loc[window_start, std_time_name]:dataframe.loc[window_end, std_time_name]]\n    \n    # Define full time index range at hourly resolution\n    full_time_index = pd.date_range(start=dataframe.loc[window_start, std_time_name], end=dataframe.loc[window_end, std_time_name], freq='h')\n    \n    # Create a temporary dataframe to check timestamp presence\n    timestamp_df = pd.DataFrame(index=full_time_index)\n    timestamp_df['present'] = timestamp_df.index.isin(dataframe.index)\n    \n    #%% Only keeping months with 50%+ data\n    timestamp_df['month'] = timestamp_df.index.to_period('M')\n    \n    # Actual present timestamps per month\n    dataframe.index = pd.to_datetime(dataframe.index)\n    actual_counts_monthly = dataframe.index.to_period('M').value_counts().sort_index()\n    expected_counts_monthly = timestamp_df.groupby('month').size().sort_index()\n    \n    missing_ratio_monthly = 1 - (actual_counts_monthly / expected_counts_monthly)\n    missing_ratio_monthly = missing_ratio_monthly.to_frame(name='Missing_Ratio')\n    \n    min_valid_points_per_month = 24 * 20  # 20 days\n    \n    # Filter months with ≤50% missing and ≥ min points\n    filtered_missing_ratio_monthly = missing_ratio_monthly[\n        (missing_ratio_monthly['Missing_Ratio'] <= 0.5) &\n        (actual_counts_monthly >= min_valid_points_per_month)\n    ]\n    \n    valid_months = filtered_missing_ratio_monthly.index\n    bad_months = missing_ratio_monthly[~missing_ratio_monthly.index.isin(valid_months)]\n    \n    #%% Only keeping weeks with 4+ days of data (96+ hourly points)\n    \n    timestamp_df['week'] = timestamp_df.index.to_period('W')\n    \n    actual_counts_weekly = dataframe.index.to_period('W').value_counts().sort_index()\n    expected_counts_weekly = timestamp_df.groupby('week').size().sort_index()\n    \n    missing_ratio_weekly = 1 - (actual_counts_weekly / expected_counts_weekly)\n    missing_ratio_weekly = missing_ratio_weekly.to_frame(name='Missing_Ratio')\n    \n    min_valid_points_per_week = 96  # 4 days\n    \n    filtered_missing_ratio_weekly = missing_ratio_weekly[\n        (missing_ratio_weekly['Missing_Ratio'] <= 0.5) &\n        (actual_counts_weekly >= min_valid_points_per_week)\n    ]\n    \n    valid_weeks = filtered_missing_ratio_weekly.index\n    bad_weeks = missing_ratio_weekly[~missing_ratio_weekly.index.isin(valid_weeks)]\n\n    dataframe.index = pd.DatetimeIndex(dataframe.index)\n    \n    # Resample by day and calculate daily min, max, avg for temperature\n    daily_summary_T = dataframe[std_temp_name].resample('D').agg(['mean', 'min', 'max']).dropna().reset_index()\n    daily_summary_T.columns = [std_time_name, 'T_avg', 'T_min', 'T_max']\n    \n    daily_summary_T[std_time_name] = pd.to_datetime(daily_summary_T[std_time_name])\n    monthly_summary_T = daily_summary_T.resample('ME', on=std_time_name).agg({'T_avg': 'mean','T_min': 'min','T_max': 'max'}).dropna().reset_index() \n    \n    monthly_summary_T['MonthPeriod'] = monthly_summary_T[std_time_name].dt.to_period('M')\n    \n    # filter rows to keep valid data\n    monthly_summary_T = monthly_summary_T[monthly_summary_T['MonthPeriod'].isin(valid_months)]\n\n\n    weekly_summary_T = daily_summary_T.resample('W', on=std_time_name).agg({'T_avg': 'mean','T_min': 'min','T_max': 'max'}).dropna().reset_index() \n    \n    weekly_summary_T['WeekPeriod'] = weekly_summary_T[std_time_name].dt.to_period('W')\n    \n    # filter rows to keep valid data\n    weekly_summary_T = weekly_summary_T[weekly_summary_T['WeekPeriod'].isin(valid_weeks)]\n    \n    # Resample by day and calculate daily min, max, avg for RH\n    daily_summary_rh = dataframe[std_rh_name].resample('D').agg(['mean', 'min', 'max']).dropna().reset_index()\n    daily_summary_rh.columns = [std_time_name, 'RH_avg', 'RH_min', 'RH_max']\n    \n    daily_summary_rh[std_time_name] = pd.to_datetime(daily_summary_rh[std_time_name])\n    monthly_summary_rh = daily_summary_rh.resample('ME', on=std_time_name).agg({'RH_avg': 'mean','RH_min': 'min','RH_max': 'max'}).dropna().reset_index()\n    \n    monthly_summary_rh['MonthPeriod'] = monthly_summary_rh[std_time_name].dt.to_period('M')\n\n    # filter rows to keep valid data\n    monthly_summary_rh = monthly_summary_rh[monthly_summary_rh['MonthPeriod'].isin(valid_months)]\n\n    weekly_summary_rh = daily_summary_rh.resample('W', on=std_time_name).agg({'RH_avg': 'mean','RH_min': 'min','RH_max': 'max'}).dropna().reset_index() \n    \n    weekly_summary_rh['WeekPeriod'] = weekly_summary_rh[std_time_name].dt.to_period('W')\n    \n    # filter rows to keep valid data\n    weekly_summary_rh = weekly_summary_rh[weekly_summary_rh['WeekPeriod'].isin(valid_weeks)]\n\n    return monthly_summary_T, monthly_summary_rh, weekly_summary_T, weekly_summary_rh, bad_months, bad_weeks",
      "metadata": {
        "trusted": true,
        "jupyter": {
          "source_hidden": true
        }
      },
      "outputs": [],
      "execution_count": null
    },
    {
      "id": "eaec0607-9325-4fd5-b201-66f0bb0d72e1",
      "cell_type": "code",
      "source": "# Weekly plotting functions\n\n# Monthly Temperature Plot\ndef plot_weekly_temp(filename, weekly_summary_T, bad_weeks):\n\n    print('Plotting: Weekly average, minimum, and maximum temperatures.\\n')\n    \n    # Calculate time differences between consecutive months\n    date_diffs = weekly_summary_T[std_time_name].diff()\n\n    # Identify gaps larger than 1 month\n    gaps = weekly_summary_T[date_diffs > pd.Timedelta(days=31)]\n\n    #plt.figure(figsize=(12, 3))\n    plt.figure(figsize=(12, 3))\n\n    # Plot monthly average, min, and max\n    plt.plot(\n        weekly_summary_T[std_time_name], \n        weekly_summary_T['T_avg'], \n        label='Average Temp', \n        color='black', \n        linewidth=2.5\n    )\n    plt.plot(\n        weekly_summary_T[std_time_name], \n        weekly_summary_T['T_min'], \n        label='Min Temp', \n        color='blue', \n        linestyle='dashdot', \n        linewidth=0.5\n    )\n    plt.plot(\n        weekly_summary_T[std_time_name], \n        weekly_summary_T['T_max'], \n        label='Max Temp', \n        color='red', \n        linestyle='dashdot', \n        linewidth=0.5\n    )\n\n    plt.title('Monthly ' + std_temp_name + ' Summary ~ ' + window_start + ' - ' + window_end + ' ~ ' + os.path.basename(filename.replace('.csv', '')))\n    plt.xlabel(plot_time_label)\n    plt.ylabel(plot_temp_label)\n\n    ax = plt.gca()\n\n    # Format tick labels as dates\n    ax.xaxis.set_major_formatter(mdates.DateFormatter('%Y-%m'))\n\n    plt.gcf().autofmt_xdate()\n\n    # Shade missing data regions\n    for period in bad_weeks.index:\n        start = period.to_timestamp()\n        end = (period + 1).to_timestamp()\n        ax.axvspan(start, end, color='gray', alpha=0.3)\n\n    fig1 = plt.gcf()\n    \n    plt.legend()\n    plt.show()\n\n    fig1.set_size_inches(12, 6)\n\n    fig1.savefig(new_plots_name + '/' + os.path.basename(filename.replace('.csv', '_') + 'week_temp.png'))\n\n# Monthly Relative Humidity Plot\ndef plot_weekly_rh(filename, weekly_summary_rh, bad_weeks):\n\n    print('Plotting: Weekly average, minimum, and maximum relative humidity.\\n')\n    \n    # Calculate time differences between consecutive months\n    date_diffs = weekly_summary_rh[std_time_name].diff()\n\n    # Identify gaps larger than 1 month\n    gaps = weekly_summary_rh[date_diffs > pd.Timedelta(days=31)]\n\n    #plt.figure(figsize=(12, 3))\n    plt.figure(figsize=(12, 3))\n\n    # Plot monthly average, min, and max RH\n    plt.plot(\n        weekly_summary_rh[std_time_name], \n        weekly_summary_rh['RH_avg'], \n        label='Average RH', \n        color='black', \n        linewidth=2.5\n    )\n    plt.plot(\n        weekly_summary_rh[std_time_name], \n        weekly_summary_rh['RH_min'], \n        label='Min RH', \n        color='blue', \n        linestyle='dashdot', \n        linewidth=0.5\n    )\n    plt.plot(\n        weekly_summary_rh[std_time_name], \n        weekly_summary_rh['RH_max'], \n        label='Max RH', \n        color='red', \n        linestyle='dashdot', \n        linewidth=0.5\n    )\n\n    plt.title('Monthly ' + std_rh_name + ' Summary ~ ' + window_start + ' - ' + window_end + ' ~ ' + os.path.basename(filename.replace('.csv', '')))\n    plt.xlabel(plot_time_label)\n    plt.ylabel(plot_rh_label)\n\n    ax = plt.gca()\n\n    plt.gcf().autofmt_xdate()\n\n    # Shade missing data regions\n    for period in bad_weeks.index:\n        start = period.to_timestamp()\n        end = (period + 1).to_timestamp()\n        ax.axvspan(start, end, color='gray', alpha=0.3)\n\n    fig2 = plt.gcf()\n    \n    plt.legend()\n    plt.show()\n\n    fig2.set_size_inches(12, 6)\n\n    fig2.savefig(new_plots_name + '/' + os.path.basename(filename.replace('.csv', '_') + 'week_rh.png'))",
      "metadata": {
        "trusted": true,
        "jupyter": {
          "source_hidden": true
        }
      },
      "outputs": [],
      "execution_count": null
    },
    {
      "id": "af9e6606-db61-4f49-aa77-7ecfeab36315",
      "cell_type": "code",
      "source": "# Monthly plotting functions\n\n# Monthly Temperature Plot\ndef plot_monthly_temp(filename, monthly_summary_T, bad_months):\n\n    print('Plotting: Monthly average, minimum, and maximum temperatures.\\n')\n    \n    # Calculate time differences between consecutive months\n    date_diffs = monthly_summary_T[std_time_name].diff()\n\n    # Identify gaps larger than 1 month\n    gaps = monthly_summary_T[date_diffs > pd.Timedelta(days=31)]\n\n    #plt.figure(figsize=(12, 3))\n    plt.figure(figsize=(12, 3))\n\n    # Plot monthly average, min, and max\n    plt.plot(\n        monthly_summary_T[std_time_name], \n        monthly_summary_T['T_avg'], \n        label='Average Temp', \n        color='black', \n        linewidth=2.5\n    )\n    plt.plot(\n        monthly_summary_T[std_time_name], \n        monthly_summary_T['T_min'], \n        label='Min Temp', \n        color='blue', \n        linestyle='dashdot', \n        linewidth=0.5\n    )\n    plt.plot(\n        monthly_summary_T[std_time_name], \n        monthly_summary_T['T_max'], \n        label='Max Temp', \n        color='red', \n        linestyle='dashdot', \n        linewidth=0.5\n    )\n\n    plt.title('Monthly ' + std_temp_name + ' Summary ~ ' + window_start + ' - ' + window_end + ' ~ ' + os.path.basename(filename.replace('.csv', '')))\n    plt.xlabel(plot_time_label)\n    plt.ylabel(plot_temp_label)\n\n    ax = plt.gca()\n\n    plt.gcf().autofmt_xdate()\n\n    # Shade missing data regions\n    for period in bad_months.index:\n        start = period.to_timestamp()\n        end = (period + 1).to_timestamp()\n        ax.axvspan(start, end, color='gray', alpha=0.3)\n\n    fig1 = plt.gcf()\n    \n    plt.legend()\n    plt.show()\n\n    fig1.set_size_inches(12, 6)\n\n    fig1.savefig(new_plots_name + '/' + os.path.basename(filename.replace('.csv', '_') + 'month_temp.png'))\n\n# Monthly Relative Humidity Plot\ndef plot_monthly_rh(filename, monthly_summary_rh, bad_months):\n\n    print('Plotting: Monthly average, minimum, and maximum relative humidity.\\n')\n    \n    # Calculate time differences between consecutive months\n    date_diffs = monthly_summary_rh[std_time_name].diff()\n\n    # Identify gaps larger than 1 month\n    gaps = monthly_summary_rh[date_diffs > pd.Timedelta(days=31)]\n\n    #plt.figure(figsize=(12, 3))\n    plt.figure(figsize=(12, 3))\n\n    # Plot monthly average, min, and max RH\n    plt.plot(\n        monthly_summary_rh[std_time_name], \n        monthly_summary_rh['RH_avg'], \n        label='Average RH', \n        color='black', \n        linewidth=2.5\n    )\n    plt.plot(\n        monthly_summary_rh[std_time_name], \n        monthly_summary_rh['RH_min'], \n        label='Min RH', \n        color='blue', \n        linestyle='dashdot', \n        linewidth=0.5\n    )\n    plt.plot(\n        monthly_summary_rh[std_time_name], \n        monthly_summary_rh['RH_max'], \n        label='Max RH', \n        color='red', \n        linestyle='dashdot', \n        linewidth=0.5\n    )\n\n    plt.title('Monthly ' + std_rh_name + ' Summary ~ ' + window_start + ' - ' + window_end + ' ~ ' + os.path.basename(filename.replace('.csv', '')))\n    plt.xlabel(plot_time_label)\n    plt.ylabel(plot_rh_label)\n\n    ax = plt.gca()\n\n    plt.gcf().autofmt_xdate()\n\n    # Shade missing data regions\n    for period in bad_months.index:\n        start = period.to_timestamp()\n        end = (period + 1).to_timestamp()\n        ax.axvspan(start, end, color='gray', alpha=0.3)\n\n    fig2 = plt.gcf()\n    \n    plt.legend()\n    plt.show()\n\n    fig2.set_size_inches(12, 6)\n\n    fig2.savefig(new_plots_name + '/' + os.path.basename(filename.replace('.csv', '_') + 'month_rh.png'))",
      "metadata": {
        "trusted": true,
        "jupyter": {
          "source_hidden": true
        }
      },
      "outputs": [],
      "execution_count": null
    },
    {
      "id": "15cb83ee-dd3e-4d90-8119-d5c3a7e20b1a",
      "cell_type": "code",
      "source": "# Walks through the folder and goes through each file one at a time.\n\ndirectory = folder_path\ncounter = 0\ncompleted = []\nskipped = []\n\n# Iterate over files in directory\nfor path, folders, files in os.walk(directory):\n    \n    for filename in files:\n        '''\n        try:\n        '''\n        counter = counter + 1\n        print(counter, '.\\n')\n        filename = directory + '/' + filename\n\n        # File initialize function        \n        data = file_initialize(filename, time_name, rh_name, td_name)\n        print('Initialization complete\\n- - -\\n')\n        \n        # File writing function (complete file)\n        write_csv(os.path.basename(filename), data)\n        print('Writing complete\\n- - -\\n')\n        \n        # Selecting windows function\n        find_valid_windows(data)\n        \n        # Asking the user for inputs of the start and end of the window    \n        window_start = input('\\na) What is your start time? --> ')\n        if window_start == 'all':\n            window_start = data[std_time_name].index.min()\n            window_start = data.loc[window_start, std_time_name]\n            print('\\nstart:', window_start)\n            window_end = data[std_time_name].index.max()\n            window_end = data.loc[window_end, std_time_name]\n            print('end:', window_end, '\\n')\n\n        else:\n            window_end = input('b) What is your end time? -->   ')\n            print('\\n')\n\n        # Window framing - Initializing daily, weekly, monthly summary dataframes based on the window frame\n        monthly_summary_T, monthly_summary_rh, weekly_summary_T, weekly_summary_rh, bad_months, bad_weeks\\\n        = window_framer(data, window_start, window_end)\n\n        # Asking the user what type of plots they would like to have.\n        print('You can make weekly, and monthly plots of your data. Input \\'weekly\\', \\'monthly\\', or \\'all\\' into the following pop-up.')\n\n        \n        plot_type = input('\\na) What type of plot would you like? --> ')\n        \n        if plot_type == 'weekly':\n            # Weekly Plotting\n            plot_weekly_temp(filename, weekly_summary_T, bad_weeks)\n            plot_weekly_rh(filename, weekly_summary_rh, bad_weeks)\n\n        elif plot_type == 'monthly':\n            # Monthly Plotting        \n            plot_monthly_temp(filename, monthly_summary_T, bad_months)\n            plot_monthly_rh(filename, monthly_summary_rh, bad_months)\n\n        elif plot_type == 'all':\n            # Weekly Plotting\n            plot_weekly_temp(filename, weekly_summary_T, bad_weeks)\n            plot_weekly_rh(filename, weekly_summary_rh, bad_weeks)\n            # Monthly Plotting        \n            plot_monthly_temp(filename, monthly_summary_T, bad_months)\n            plot_monthly_rh(filename, monthly_summary_rh, bad_months)\n\n        else:\n            print('You may have mistyped the input, so we just picked \\'all\\' for you.')\n            # Weekly Plotting\n            plot_weekly_temp(filename, weekly_summary_T, bad_weeks)\n            plot_weekly_rh(filename, weekly_summary_rh, bad_weeks)\n            # Monthly Plotting        \n            plot_monthly_temp(filename, monthly_summary_T, bad_months)\n            plot_monthly_rh(filename, monthly_summary_rh, bad_months)\n                \n        print('Plotting complete\\n')\n        \n        completed.append(os.path.basename(filename))\n\n        '''\n        except:\n            print('An error occured. File skipped.\\n')\n            skipped.append(os.path.basename(filename))\n        '''\n\nprint('---------------------------\\n\\nPROCESSING INFORMATION\\n')\nprint('Files processed:\\n', completed, '\\n')\nprint('Files skipped due to error:\\n', skipped)",
      "metadata": {
        "editable": true,
        "slideshow": {
          "slide_type": ""
        },
        "tags": [],
        "trusted": true,
        "jupyter": {
          "source_hidden": true
        }
      },
      "outputs": [],
      "execution_count": null
    }
  ]
}