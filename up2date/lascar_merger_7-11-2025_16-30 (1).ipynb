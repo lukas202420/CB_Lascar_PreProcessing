{
  "metadata": {
    "kernelspec": {
      "name": "python",
      "display_name": "Python (Pyodide)",
      "language": "python"
    },
    "language_info": {
      "codemirror_mode": {
        "name": "python",
        "version": 3
      },
      "file_extension": ".py",
      "mimetype": "text/x-python",
      "name": "python",
      "nbconvert_exporter": "python",
      "pygments_lexer": "ipython3",
      "version": "3.8"
    }
  },
  "nbformat_minor": 5,
  "nbformat": 4,
  "cells": [
    {
      "id": "5224e8cb-a275-4db3-b542-2f7211d0edb7",
      "cell_type": "code",
      "source": "# Importing all necessary modules\n\nimport os\nimport pandas as pd\nimport matplotlib.dates as mdates\nfrom datetime import datetime",
      "metadata": {
        "trusted": true,
        "jupyter": {
          "source_hidden": true
        }
      },
      "outputs": [],
      "execution_count": null
    },
    {
      "id": "0f3e29b5-c1ca-41d3-80f7-2915b40249e2",
      "cell_type": "code",
      "source": "# Welcome to the Lahmas Lab Lascar Data Merger!\n# Please answer the questions below and run your code directly in a jupyter notebook.\n\n# Where are the files you would like to process?\nold_data_file = r'lascar_data/LLanUp-3_17Jul06_9Aug16_4355m.csv'\nnew_data_file = r'lascar_data/LlanUp-3A_18Jul15_5Jul2019.csv'\n\n# What is the name of the time variable?\ntime_name = 'Datetime'\n\n# What will the name of the new file be?\nnew_file_name = 'LlanUp-3_17Jul06_5Jul2019_3955m.csv'\n\n# What will your new folder be called?\nnew_folder_path = 'lascar_merged'",
      "metadata": {
        "trusted": true
      },
      "outputs": [],
      "execution_count": null
    },
    {
      "id": "c6c0eadb-4996-4840-92ff-9e5a35edad11",
      "cell_type": "code",
      "source": "# Creating the new folder where all the processed files will end up.\nrenamer = '0_' + new_folder_path\n\nos.rename(new_folder_path, renamer)\n\nif os.path.exists(renamer):\n    print('\\nThis folder already exists!\\n\\nIf you wish to continue with this folder anyway, \\\nrun the next block.\\nOtherwise, rewrite the folder path/name in block 1.\\n')\n\nelse:\n    os.makedirs(renamer)\n    print('\\nYour new folder path is:\\n\"', renamer, '\"\\n\\nRun next block\\n')",
      "metadata": {
        "trusted": true,
        "jupyter": {
          "source_hidden": true
        }
      },
      "outputs": [],
      "execution_count": null
    },
    {
      "id": "d9230b57-dfc3-4d9a-b00b-39e93fd78b68",
      "cell_type": "code",
      "source": "# Merging and sorting both files\n\ndataframe1 = pd.read_csv(old_data_file)\ndataframe2 = pd.read_csv(new_data_file)\n\ndataframe = pd.concat([dataframe1,dataframe2])\n\ndataframe['Time_fixed'] = pd.to_datetime(dataframe[time_name])\n\ndataframe = dataframe.sort_values('Time_fixed').reset_index(drop=True)\n\ndataframe = dataframe.drop_duplicates()\n\ndel dataframe['Time_fixed']",
      "metadata": {
        "trusted": true,
        "jupyter": {
          "source_hidden": true
        }
      },
      "outputs": [],
      "execution_count": null
    },
    {
      "id": "ad76c722-0b4b-4e7c-b725-1ae0feefc8c7",
      "cell_type": "code",
      "source": "# Writing new file into folder\n\nnew_file_path = renamer + '/' + new_file_name\n\n# Writing the new dataframe to your computer\ndataframe.to_csv(new_file_path, index=False, encoding='utf-8-sig')",
      "metadata": {
        "trusted": true,
        "jupyter": {
          "source_hidden": true
        }
      },
      "outputs": [],
      "execution_count": null
    }
  ]
}