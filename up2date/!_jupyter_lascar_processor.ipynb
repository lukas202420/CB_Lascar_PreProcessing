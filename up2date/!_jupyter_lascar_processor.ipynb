{
  "metadata": {
    "kernelspec": {
      "name": "python",
      "display_name": "Python (Pyodide)",
      "language": "python"
    },
    "language_info": {
      "codemirror_mode": {
        "name": "python",
        "version": 3
      },
      "file_extension": ".py",
      "mimetype": "text/x-python",
      "name": "python",
      "nbconvert_exporter": "python",
      "pygments_lexer": "ipython3",
      "version": "3.8"
    }
  },
  "nbformat_minor": 5,
  "nbformat": 4,
  "cells": [
    {
      "id": "a84ead7e-67ad-4b21-8316-93c39e4333cf",
      "cell_type": "code",
      "source": "# Welcome to the Lahmas Lab Lascar Data Processor!\n# Please answer the questions below and run your code directly in a jupyter notebook.\n\n# Where is the folder you would like to process?\nfolder_path = r'lascar_data' # Use 'copy path' within Jupyter Lab\n\n# What are the labels for each variable in the .csv files?\n# NOTE ! : If the label has a speciel character in it you may have to open the file in 'Editor' to copy and paste the symbol.\ntime_name = 'Time' # Label of time variable\ntemp_name = 'T' # Label of temperature variable\nrh_name = 'RH' # Label of relative humidity variable\ntd_name = 'Td' # Label of dew point temperature variable\n\n# What is the date format? (eg. %d/%m/%Y %H:%M:%S)\ndate_format = '%Y-%m-%d %H:%M:%S'\n\n# What will the name be of your new files folder?\nnew_files_name = 'lascar_files'\n\n# What will the name be of your new plots folder?\nnew_plots_name = 'lascar_plots'",
      "metadata": {
        "editable": true,
        "slideshow": {
          "slide_type": ""
        },
        "tags": [],
        "trusted": true
      },
      "outputs": [],
      "execution_count": null
    },
    {
      "id": "6f25adac-ed3e-497e-9a42-4a5dfd84a238",
      "cell_type": "code",
      "source": "# Importing all necessary modules\n\nimport numpy as np\nimport os\nimport matplotlib.pyplot as plt\nimport pandas as pd\nimport matplotlib.dates as mdates\nfrom datetime import datetime\nimport io",
      "metadata": {
        "trusted": true,
        "jupyter": {
          "source_hidden": true
        }
      },
      "outputs": [],
      "execution_count": null
    },
    {
      "id": "b7d1e4d2-b911-4223-94f2-c40e17c64f02",
      "cell_type": "code",
      "source": "# Global Variable Editor - DO NOT CHANGE UNLESS YOU ARE SURE\n# This block holds all standardized global variables and formatting styles for the output files.\n\n# Standard Date Format\nstd_date_format = '%Y/%m/%d %H:%M:%S'\n\n# To add:\nstd_time_name = 'Datetime (YYYY/MM/DD HH:mm:ss)'\nstd_temp_name = 'Temperature (deg C)'\nstd_rh_name = 'RH (%)'\nstd_td_name = 'Dew Point (deg C)'\nrh_cor_name = 'RH Corrected (%)'\ntd_cor_name = 'Dew Point Corrected (°C)'",
      "metadata": {
        "trusted": true,
        "jupyter": {
          "source_hidden": true
        }
      },
      "outputs": [],
      "execution_count": null
    },
    {
      "id": "0126f41d-4867-4d09-821f-69449ee03a1b",
      "cell_type": "code",
      "source": "# Creating the new folder where all the processed files will end up.\n\nnew_files_name = '1_' + new_files_name\n\nif os.path.exists(new_files_name):\n    print('\\nThis folder already exists!\\n\\nIf you wish to continue with this folder anyway, \\\nrun the next block.\\nOtherwise, rewrite the folder path/name in block 1.\\n')\n\nelse:\n    os.makedirs(new_files_name)\n    print('\\nYour new folder is:\\n\"', new_files_name, '\"\\n\\nRun next block\\n')",
      "metadata": {
        "trusted": true,
        "jupyter": {
          "source_hidden": true
        }
      },
      "outputs": [],
      "execution_count": null
    },
    {
      "id": "c4cf6464-3af5-457c-9768-7b9d43d5f794",
      "cell_type": "code",
      "source": "# Creating the new folder where all the plots will end up.\n\nnew_plots_name = '2_' + new_plots_name\n\nif os.path.exists(new_plots_name):\n    print('\\nThis folder already exists!\\n\\nIf you wish to continue with this folder anyway, \\\nrun the next block.\\nOtherwise, rewrite the folder path/name in block 1.\\n')\n\nelse:\n    os.makedirs(new_plots_name)\n    print('\\nYour new folder is:\\n\"', new_plots_name, '\"\\n\\nRun next block\\n')",
      "metadata": {
        "trusted": true,
        "jupyter": {
          "source_hidden": true
        }
      },
      "outputs": [],
      "execution_count": null
    },
    {
      "id": "28e29bb0-6b9c-4596-95e8-b25f877af5df",
      "cell_type": "code",
      "source": "# File initialization function\n\ndef file_initialize(file_path, time_name, rh_name, td_name):\n\n    ### INITIALIZATION\n    \n    # Prints selected file name\n    print(\"Initializing file:\", os.path.basename(file_path), '\\n')\n\n    # Converting .csv in ANSI encoding to UTF-8 encoding\n    try:\n        df = pd.read_csv(file_path, encoding='ANSI')\n        df.to_csv(file_path, encoding='utf-8', index=False)\n        dataframe = pd.read_csv(file_path)\n\n    except:\n        dataframe = pd.read_csv(file_path)\n    \n    # Skips first values as they may have been taken & tainted during installation\n    dataframe = dataframe.iloc[5:].reset_index(drop=True)\n    \n    # Changes time string to datetime type\n    dataframe['Time_fixed'] = pd.to_datetime(dataframe[time_name], format = date_format)\n    \n    # Changing date format to standard\n    dataframe['Time_fixed'] = pd.to_datetime(dataframe['Time_fixed']).dt.strftime(std_date_format)\n    \n    # Updating the time column to standard datetime format\n    dataframe[time_name] = dataframe['Time_fixed']\n    \n    \n    ## RH and Td correction\n    \n    # Creating lists to insert corrected RH and Td values\n    RH_cor = [None] * len(dataframe)\n    Td_cor = [None] * len(dataframe)\n    \n    # Iterating through rows to update RH values out of 0-100% range and Td values.\n    for i in range(0,len(dataframe)):\n        if dataframe.loc[i, rh_name] > 100:\n            RH_cor[i] = 100 # RH is adjusted to 100% as it must be saturated\n            Td_cor[i] = dataframe.loc[i, temp_name] # Td is equal to T\n        \n        else: # Everything stays the same\n            RH_cor[i] = dataframe.loc[i, rh_name]\n            Td_cor[i] = dataframe.loc[i, td_name]\n            \n    # Creating columns for the lists to merge into the dataframe\n    dataframe[rh_cor_name] = RH_cor\n    dataframe[td_cor_name] = Td_cor\n    \n    return dataframe",
      "metadata": {
        "trusted": true,
        "jupyter": {
          "source_hidden": true
        }
      },
      "outputs": [],
      "execution_count": null
    },
    {
      "id": "47025fa2-6768-4dc6-9572-eff84a11b7dc",
      "cell_type": "code",
      "source": "# Function writing a new .csv in your new folder\n\ndef write_csv(basename, dataframe):\n\n    # Creating new file path and name\n    new_file_path = new_files_name + '/PROCESSED_' + os.path.basename(basename)\n    new_file_path = new_file_path.replace('txt', 'csv')\n    \n    # Prints selected file name\n    print('Writing new file:', os.path.basename(new_file_path), '\\n')\n\n    # Renaming labels to standard\n    dataframe.rename(columns={time_name: std_time_name,\n                              temp_name: std_temp_name,\n                              rh_name: std_rh_name,\n                              td_name: std_td_name}, inplace=True)\n    \n    # Removing custom index\n    dataframe.reset_index(drop=True, inplace=True)\n    \n    # Writing the new dataframe to your computer\n    dataframe.to_csv(new_file_path, index=False, encoding='utf-8-sig')",
      "metadata": {
        "editable": true,
        "slideshow": {
          "slide_type": ""
        },
        "tags": [],
        "trusted": true,
        "jupyter": {
          "source_hidden": true
        }
      },
      "outputs": [],
      "execution_count": null
    },
    {
      "id": "52dae39c-b4d7-4279-97a3-b3dd4ee2dc44",
      "cell_type": "code",
      "source": "# Window selector function\n\ndef find_valid_windows(dataframe, column_subset=None, min_window_size=1):\n\n    print('Calculating Data Window(s)\\n')\n    \n    if column_subset:\n        valid = dataframe[temp_name].notnull().all(axis=1)\n    else:\n        valid = dataframe.notnull().all(axis=1)\n\n    # Mark where valid changes from False to True or True to False\n    is_valid = valid.astype(int)\n    group = (is_valid != is_valid.shift()).cumsum()\n\n    windows = []\n    for _, g in dataframe.groupby(group):\n        if valid[g.index[0]]:  # This is a valid window\n            if len(g) >= min_window_size:\n                # Get integer positions of start and end\n                start_idx = dataframe.index.get_loc(g.index[0])\n                end_idx = dataframe.index.get_loc(g.index[-1])\n                windows.append((start_idx, end_idx))\n\n    return windows",
      "metadata": {
        "trusted": true,
        "jupyter": {
          "source_hidden": true
        }
      },
      "outputs": [],
      "execution_count": null
    },
    {
      "id": "746bb0bc-bd63-44bc-ab31-fbd80bf4400f",
      "cell_type": "code",
      "source": "# Window framer\n\ndef window_framer(data, window_start, window_end, time_name, rh_name, td_name):\n    ## Initializing daily and monthly temperature averages for plotting\n\n    # adjust the number of rows to skip if needed, to avoid potential abberant data points \n    #dataframe = dataframe.iloc[50:].reset_index(drop=True)\n    \n    dataframe = data.set_index('Time_fixed', drop=True)\n    dataframe.index = pd.to_datetime(dataframe.index).strftime(std_date_format)\n    dataframe = dataframe.loc[dataframe.loc[window_start, std_time_name]:dataframe.loc[window_end, std_time_name]]\n\n    # Full range, start-finish\n    full_time_index = pd.date_range(start=dataframe.loc[window_start, std_time_name], end=dataframe.loc[window_end, std_time_name], freq='h')\n    full_df = pd.DataFrame(index=full_time_index)\n    full_df['month'] = full_df.index.to_period('M')\n    \n    # expected number of data points per month\n    expected_counts = full_df.groupby('month').size().sort_index()\n\n    dataframe.index = pd.to_datetime(dataframe.index)\n    # actual number of data points per month\n    actual_counts = dataframe.index.to_period('M').value_counts().sort_index()\n    \n    # ratio of missing data\n    missing_ratio = 1 - (actual_counts / expected_counts)\n    missing_ratio = missing_ratio.to_frame(name='Missing_Ratio')\n    \n    # adjust what you accept as enough data for a month, here I put 20 days (20 days * 24h)\n    min_valid_points_per_month = 24 * 20\n    \n    start_month = dataframe.index.min().to_period('M')\n    end_month = dataframe.index.max().to_period('M')\n    \n    # filter data to exclude: months with 50%+ missing with less than 20 days of data and nans\n    filtered_missing_ratio = missing_ratio[\n        (missing_ratio['Missing_Ratio'] <= 0.5) & \n        (~missing_ratio['Missing_Ratio'].isna()) &\n        (actual_counts >= min_valid_points_per_month)\n        ]\n    \n    # final valid and bad months\n    valid_months = filtered_missing_ratio.index\n    bad_months = missing_ratio[~missing_ratio.index.isin(valid_months)]\n    \n    # Create index using the time column\n    dataframe = dataframe.sort_values('Time_fixed')\n    \n    # Resample by day and calculate daily min, max, avg for temperature\n    daily_summary_T = dataframe[std_temp_name].resample('1D').agg(['mean', 'min', 'max']).dropna().reset_index()\n    daily_summary_T.columns = [std_time_name, 'T_avg', 'T_min', 'T_max']\n    \n    daily_summary_T[std_time_name] = pd.to_datetime(daily_summary_T[std_time_name])\n    monthly_summary_T = daily_summary_T.resample('ME', on=std_time_name).agg({'T_avg': 'mean','T_min': 'min','T_max': 'max'}).dropna().reset_index() \n    \n    monthly_summary_T['MonthPeriod'] = monthly_summary_T[std_time_name].dt.to_period('M')\n    \n    # filter rows to keep valid data\n    monthly_summary_T = monthly_summary_T[monthly_summary_T['MonthPeriod'].isin(valid_months)]\n            \n    # Resample by day and calculate daily min, max, avg for RH\n    daily_summary_rh = dataframe[rh_cor_name].resample('1D')\\\n        .agg(['mean', 'min', 'max']).dropna().reset_index()\n    daily_summary_rh.columns = ['DateTime', 'RH_avg', 'RH_min', 'RH_max']\n    \n    # Resample by day and calculate daily min, max, avg for RH\n    daily_summary_rh = dataframe[std_rh_name].resample('1D').agg(['mean', 'min', 'max']).dropna().reset_index()\n    daily_summary_rh.columns = [std_time_name, 'RH_avg', 'RH_min', 'RH_max']\n    \n    daily_summary_rh[std_time_name] = pd.to_datetime(daily_summary_rh[std_time_name])\n    monthly_summary_rh = daily_summary_rh.resample('ME', on=std_time_name).agg({'RH_avg': 'mean','RH_min': 'min','RH_max': 'max'}).dropna().reset_index()\n    \n    monthly_summary_rh['MonthPeriod'] = monthly_summary_rh[std_time_name].dt.to_period('M')\n    monthly_summary_rh = monthly_summary_rh[monthly_summary_rh['MonthPeriod'].isin(valid_months)]\n\n    return monthly_summary_T, monthly_summary_rh, bad_months",
      "metadata": {
        "trusted": true,
        "jupyter": {
          "source_hidden": true
        }
      },
      "outputs": [],
      "execution_count": null
    },
    {
      "id": "af9e6606-db61-4f49-aa77-7ecfeab36315",
      "cell_type": "code",
      "source": "# Creating plots from the processed data\n\n# Monthly Temperature Plot\ndef plot_monthly_temp(filename, monthly_summary_T, bad_months):\n\n    print('Plotting: Monthly average, minimum, and maximum temperatures.\\n')\n    \n    # Calculate time differences between consecutive months\n    date_diffs = monthly_summary_T[std_time_name].diff()\n\n    # Identify gaps larger than 1 month\n    gaps = monthly_summary_T[date_diffs > pd.Timedelta(days=31)]\n\n    #plt.figure(figsize=(12, 3))\n    plt.figure(figsize=(12, 3))\n\n    # Plot monthly average, min, and max\n    plt.plot(\n        monthly_summary_T[std_time_name], \n        monthly_summary_T['T_avg'], \n        label='Average Temp', \n        color='black', \n        linewidth=2.5\n    )\n    plt.plot(\n        monthly_summary_T[std_time_name], \n        monthly_summary_T['T_min'], \n        label='Min Temp', \n        color='blue', \n        linestyle='dashdot', \n        linewidth=0.5\n    )\n    plt.plot(\n        monthly_summary_T[std_time_name], \n        monthly_summary_T['T_max'], \n        label='Max Temp', \n        color='red', \n        linestyle='dashdot', \n        linewidth=0.5\n    )\n\n    plt.title('Monthly Temperature Summary:')\n    plt.xlabel('Date')\n    plt.ylabel('Temperature')\n\n    ax = plt.gca()\n\n    # Custom tick dates\n    custom_tick_dates = [\n        datetime(2006, 1, 1), datetime(2007, 1, 1), datetime(2008, 1, 1),\n        datetime(2009, 1, 1), datetime(2010, 1, 1), datetime(2011, 1, 1),\n        datetime(2012, 1, 1), datetime(2013, 1, 1), datetime(2014, 1, 1),\n        datetime(2015, 1, 1), datetime(2016, 1, 1), datetime(2017, 1, 1),\n        datetime(2018, 1, 1), datetime(2019, 1, 1), datetime(2020, 1, 1),\n        datetime(2021, 1, 1), datetime(2022, 1, 1), datetime(2023, 1, 1),\n        datetime(2024, 1, 1),\n    ]\n    \n    ax.set_xticks(custom_tick_dates)\n    \n    # Format tick labels as dates\n    ax.xaxis.set_major_formatter(mdates.DateFormatter('%Y-%m'))\n\n    plt.gcf().autofmt_xdate()\n\n    # Shade missing data regions\n    for period in bad_months.index:\n        start = period.to_timestamp()\n        end = (period + 1).to_timestamp()\n        ax.axvspan(start, end, color='gray', alpha=0.3)\n\n    fig1 = plt.gcf()\n    \n    plt.legend()\n    plt.show()\n\n    fig1.set_size_inches(12, 6)\n\n    fig1.savefig(new_plots_name + '/' + os.path.basename(filename.replace('.csv', '_') + 'month_temp.png'))\n\n# Monthly Relative Humidity Plot\ndef plot_monthly_rh(filename, monthly_summary_rh, bad_months):\n\n    print('Plotting: Monthly average, minimum, and maximum relative humidity.\\n')\n    \n    # Calculate time differences between consecutive months\n    date_diffs = monthly_summary_rh[std_time_name].diff()\n\n    # Identify gaps larger than 1 month\n    gaps = monthly_summary_rh[date_diffs > pd.Timedelta(days=31)]\n\n    #plt.figure(figsize=(12, 3))\n    plt.figure(figsize=(12, 3))\n\n    # Plot monthly average, min, and max RH\n    plt.plot(\n        monthly_summary_rh[std_time_name], \n        monthly_summary_rh['RH_avg'], \n        label='Average RH', \n        color='black', \n        linewidth=2.5\n    )\n    plt.plot(\n        monthly_summary_rh[std_time_name], \n        monthly_summary_rh['RH_min'], \n        label='Min RH', \n        color='blue', \n        linestyle='dashdot', \n        linewidth=0.5\n    )\n    plt.plot(\n        monthly_summary_rh[std_time_name], \n        monthly_summary_rh['RH_max'], \n        label='Max RH', \n        color='red', \n        linestyle='dashdot', \n        linewidth=0.5\n    )\n\n    plt.title('Monthly Relative Humidity Summary:')\n    plt.xlabel('Date')\n    plt.ylabel('Relative Humidity')\n\n    ax = plt.gca()\n\n    # Custom tick dates (same as before)\n    custom_tick_dates = [\n        datetime(2006, 1, 1), datetime(2007, 1, 1), datetime(2008, 1, 1),\n        datetime(2009, 1, 1), datetime(2010, 1, 1), datetime(2011, 1, 1),\n        datetime(2012, 1, 1), datetime(2013, 1, 1), datetime(2014, 1, 1),\n        datetime(2015, 1, 1), datetime(2016, 1, 1), datetime(2017, 1, 1),\n        datetime(2018, 1, 1), datetime(2019, 1, 1), datetime(2020, 1, 1),\n        datetime(2021, 1, 1), datetime(2022, 1, 1), datetime(2023, 1, 1),\n        datetime(2024, 1, 1),\n    ]\n    ax.set_xticks(custom_tick_dates)\n    \n    # Format tick labels as dates\n    ax.xaxis.set_major_formatter(mdates.DateFormatter('%Y-%m'))\n\n    plt.gcf().autofmt_xdate()\n\n    # Shade missing data regions\n    for period in bad_months.index:\n        start = period.to_timestamp()\n        end = (period + 1).to_timestamp()\n        ax.axvspan(start, end, color='gray', alpha=0.3)\n\n    fig2 = plt.gcf()\n    \n    plt.legend()\n    plt.show()\n\n    fig2.set_size_inches(12, 6)\n\n    fig2.savefig(new_plots_name + '/' + os.path.basename(filename.replace('.csv', '_') + 'month_rh.png'))",
      "metadata": {
        "trusted": true,
        "jupyter": {
          "source_hidden": true
        }
      },
      "outputs": [],
      "execution_count": null
    },
    {
      "id": "15cb83ee-dd3e-4d90-8119-d5c3a7e20b1a",
      "cell_type": "code",
      "source": "# Walks through the folder and goes through each file one at a time.\n\ndirectory = folder_path\ncounter = 0\ncompleted = []\nskipped = []\n\n# Iterate over files in directory\nfor path, folders, files in os.walk(directory):\n    \n    for filename in files:\n        '''\n        try:\n        '''\n        counter = counter + 1\n        print(counter, '.\\n')\n        filename = directory + '/' + filename\n\n        # File initialize function        \n        data = file_initialize(filename, time_name, rh_name, td_name)\n        print('Initialization complete\\n- - -\\n')\n\n        # File writing function (complete file)\n        write_csv(os.path.basename(filename), data)\n        print('Writing complete\\n- - -\\n')\n\n        # Selecting windows function\n        windows = find_valid_windows(data)\n        print('The following time windows contain data, please choose a start and end date for visualization (must be on the hour).\\n', \n              'You can input \\'all\\' to visualize everything or eg. \\'2003/10/17 21:00:00\\'.\\n')\n        ticker = 0\n        \n        for i in range(0, len(windows)):\n            ticker = ticker + 1\n            print('Window', ticker, ': ', data.loc[windows[i][0], std_time_name], 'until', data.loc[windows[i][1], std_time_name], '\\t')\n\n        window_start = input('a) What is your start time? --> ')\n        if window_start == 'all':\n            window_start = data[std_time_name].index.min()\n            window_start = data.loc[window_start, std_time_name]\n            print('start:', window_start)\n            window_end = data[std_time_name].index.max()\n            window_end = data.loc[window_end, std_time_name]\n            print('end:', window_end, '\\n')\n\n        else:\n            window_end = input('b) What is your end time? -->   ')\n            print('\\n')\n\n        # Window framing\n        monthly_summary_T, monthly_summary_rh, bad_months = window_framer(data, window_start, window_end, time_name, rh_name, td_name)\n\n        # Plotting function        \n        plot_monthly_temp(filename, monthly_summary_T, bad_months)\n        plot_monthly_rh(filename, monthly_summary_rh, bad_months)\n        print('Plotting complete\\n')\n        \n        completed.append(os.path.basename(filename))\n        '''\n        except:\n            print('An error occured. File skipped.\\n')\n            skipped.append(os.path.basename(filename))\n        '''\n\nprint('---------------------------\\n\\nPROCESSING INFORMATION\\n')\nprint('Files processed:\\n', completed, '\\n')\nprint('Files skipped due to error:\\n', skipped)",
      "metadata": {
        "editable": true,
        "slideshow": {
          "slide_type": ""
        },
        "tags": [],
        "trusted": true,
        "jupyter": {
          "source_hidden": true
        }
      },
      "outputs": [],
      "execution_count": null
    }
  ]
}