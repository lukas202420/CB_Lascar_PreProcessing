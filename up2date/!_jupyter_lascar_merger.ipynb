{
  "metadata": {
    "kernelspec": {
      "name": "python",
      "display_name": "Python (Pyodide)",
      "language": "python"
    },
    "language_info": {
      "codemirror_mode": {
        "name": "python",
        "version": 3
      },
      "file_extension": ".py",
      "mimetype": "text/x-python",
      "name": "python",
      "nbconvert_exporter": "python",
      "pygments_lexer": "ipython3",
      "version": "3.8"
    }
  },
  "nbformat_minor": 5,
  "nbformat": 4,
  "cells": [
    {
      "id": "5224e8cb-a275-4db3-b542-2f7211d0edb7",
      "cell_type": "code",
      "source": "# Importing all necessary modules\n\nimport os\nimport pandas as pd\nimport matplotlib.dates as mdates\nfrom datetime import datetime",
      "metadata": {
        "trusted": true
      },
      "outputs": [],
      "execution_count": 1
    },
    {
      "id": "0f3e29b5-c1ca-41d3-80f7-2915b40249e2",
      "cell_type": "code",
      "source": "# Welcome to the Lahmas Lab Lascar Data Merger!\n# Please answer the questions below and run your code directly in a jupyter notebook.\n\n# How many files would you like to merge?\nnum_files = 5\n\n# Where are the files you would like to process?\nfiles = {\n    'f1': r'',\n    'f2': r'',\n}\n# ... please continue with [ 'f3': r'', ] etc. if you have more files to add.\n\n# What is the name of the time variable?\ntime_name = ''\n\n# What will the name of the new file be?\nnew_file_name = ''\n\n# What will your new folder be called?\nnew_folder_path = ''",
      "metadata": {
        "trusted": true
      },
      "outputs": [],
      "execution_count": 20
    },
    {
      "id": "c6c0eadb-4996-4840-92ff-9e5a35edad11",
      "cell_type": "code",
      "source": "# Creating the new folder where all the processed files will end up.\nnew_folder = '0_' + new_folder_path\n\nif os.path.exists(new_folder):\n    print('\\nThis folder already exists!\\n\\nIf you wish to continue with this folder anyway, \\\nrun the next block.\\nOtherwise, rewrite the folder path/name in block 1.\\n')\n\nelse:\n    os.makedirs(new_folder)\n    print('\\nYour new folder path is:\\n\"', new_folder, '\"\\n\\nRun next block\\n')",
      "metadata": {
        "trusted": true
      },
      "outputs": [
        {
          "name": "stdout",
          "output_type": "stream",
          "text": "\nThis folder already exists!\n\nIf you wish to continue with this folder anyway, run the next block.\nOtherwise, rewrite the folder path/name in block 1.\n\n"
        }
      ],
      "execution_count": 13
    },
    {
      "id": "d9230b57-dfc3-4d9a-b00b-39e93fd78b68",
      "cell_type": "code",
      "source": "# Merging and sorting both files\n\ndataframe = pd.read_csv(files[f'f1'])\n\nfor i in range(2, num_files + 1):        \n    data = pd.read_csv(files[f'f{i}'])\n\n    dataframe = pd.concat([dataframe, data])\n\ndataframe['Time_fixed'] = pd.to_datetime(dataframe[time_name])\n\ndataframe = dataframe.sort_values('Time_fixed').reset_index(drop=True)\n\ndataframe = dataframe.drop_duplicates()\n\ndel dataframe['Time_fixed']",
      "metadata": {
        "trusted": true
      },
      "outputs": [],
      "execution_count": 17
    },
    {
      "id": "ad76c722-0b4b-4e7c-b725-1ae0feefc8c7",
      "cell_type": "code",
      "source": "# Writing new file into folder\n\nnew_file_path = new_folder + '/' + new_file_name\n\n# Writing the new dataframe to your computer\ndataframe.to_csv(new_file_path, index=False, encoding='utf-8-sig')",
      "metadata": {
        "trusted": true
      },
      "outputs": [],
      "execution_count": 18
    }
  ]
}
