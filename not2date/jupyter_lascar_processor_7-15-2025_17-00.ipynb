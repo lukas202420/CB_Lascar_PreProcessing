{
  "metadata": {
    "kernelspec": {
      "name": "python",
      "display_name": "Python (Pyodide)",
      "language": "python"
    },
    "language_info": {
      "codemirror_mode": {
        "name": "python",
        "version": 3
      },
      "file_extension": ".py",
      "mimetype": "text/x-python",
      "name": "python",
      "nbconvert_exporter": "python",
      "pygments_lexer": "ipython3",
      "version": "3.8"
    }
  },
  "nbformat_minor": 5,
  "nbformat": 4,
  "cells": [
    {
      "id": "6f25adac-ed3e-497e-9a42-4a5dfd84a238",
      "cell_type": "code",
      "source": "# Importing all necessary modules\n\nimport numpy as np\nimport os\nimport matplotlib.pyplot as plt\nimport pandas as pd\nimport matplotlib.dates as mdates\nfrom datetime import datetime\nimport io",
      "metadata": {
        "trusted": true,
        "jupyter": {
          "source_hidden": true
        }
      },
      "outputs": [],
      "execution_count": null
    },
    {
      "id": "a84ead7e-67ad-4b21-8316-93c39e4333cf",
      "cell_type": "code",
      "source": "# Welcome to the Lahmas Lab Lascar Data Processor!\n# Please answer the questions below and run your code directly in a jupyter notebook.\n\n# Where is the folder you would like to process?\nfolder_path = r'0_lascar_merged' # Use 'copy path' within Jupyter Lab\n\n# What are the labels for each variable in the .csv files?\n# NOTE ! : If the label has a speciel character in it you may have to open the file in 'Editor' to copy and paste the symbol.\ntime_name = 'Datetime' # Label of time variable\ntemp_name = 'Temperature (�C)' # Label of temperature variable\nrh_name = 'RH (%)' # Label of relative humidity variable\ntd_name = 'Dew Point (�C)' # Label of dew point temperature variable\n\n# What will the name be of your new files folder?\nnew_files_name = 'lascar_files'\n\n# What will the name be of your new plots folder?\nnew_plots_name = 'lascar_plots'",
      "metadata": {
        "editable": true,
        "slideshow": {
          "slide_type": ""
        },
        "tags": [],
        "trusted": true
      },
      "outputs": [],
      "execution_count": null
    },
    {
      "id": "0126f41d-4867-4d09-821f-69449ee03a1b",
      "cell_type": "code",
      "source": "# Creating the new folder where all the processed files will end up.\n\nnew_files_name = '1_' + new_files_name\n\nif os.path.exists(new_files_name):\n    print('\\nThis folder already exists!\\n\\nIf you wish to continue with this folder anyway, \\\nrun the next block.\\nOtherwise, rewrite the folder path/name in block 1.\\n')\n\nelse:\n    os.makedirs(new_files_name)\n    print('\\nYour new folder is:\\n\"', new_files_name, '\"\\n\\nRun next block\\n')",
      "metadata": {
        "trusted": true,
        "jupyter": {
          "source_hidden": true
        }
      },
      "outputs": [],
      "execution_count": null
    },
    {
      "id": "c4cf6464-3af5-457c-9768-7b9d43d5f794",
      "cell_type": "code",
      "source": "# Creating the new folder where all the plots will end up.\n\nnew_plots_name = '2_' + new_plots_name\n\nif os.path.exists(new_plots_name):\n    print('\\nThis folder already exists!\\n\\nIf you wish to continue with this folder anyway, \\\nrun the next block.\\nOtherwise, rewrite the folder path/name in block 1.\\n')\n\nelse:\n    os.makedirs(new_plots_name)\n    print('\\nYour new folder is:\\n\"', new_plots_name, '\"\\n\\nRun next block\\n')",
      "metadata": {
        "trusted": true,
        "jupyter": {
          "source_hidden": true
        }
      },
      "outputs": [],
      "execution_count": null
    },
    {
      "id": "28e29bb0-6b9c-4596-95e8-b25f877af5df",
      "cell_type": "code",
      "source": "# File initialization function\n\ndef file_initialize(file_path, time_name, rh_name, td_name):\n\n    ### INITIALIZATION\n    \n    # Prints selected file name\n    print(\"Initializing file:\", os.path.basename(file_path), '\\n')\n\n    # Converting .csv in ANSI encoding to UTF-8 encoding\n    try:\n        df = pd.read_csv(file_path, encoding='ANSI')\n        df.to_csv(file_path, encoding='utf-8', index=False)\n        dataframe = pd.read_csv(file_path)\n\n    except:\n        dataframe = pd.read_csv(file_path)\n    \n    # Skips first values as they may have been taken & tainted during installation\n    dataframe = dataframe.iloc[5:].reset_index(drop=True)\n    \n    # Changes time string to datetime type\n    dataframe['Time_fixed'] = pd.to_datetime(dataframe[time_name])\n    \n    # Define the labels of the corrected variables\n    rh_cor_name = 'RH Corrected (%)'\n    td_cor_name = 'Dew Point Corrected (°C)'\n    \n    \n    ## RH and Td correction\n    \n    # Creating lists to insert corrected RH and Td values\n    RH_cor = [None] * len(dataframe)\n    Td_cor = [None] * len(dataframe)\n    \n    # Iterating through rows to update RH values out of 0-100% range and Td values.\n    for i in range(0,len(dataframe)):\n        if dataframe.loc[i, rh_name] > 100:\n            RH_cor[i] = 100 # RH is adjusted to 100% as it must be saturated\n            Td_cor[i] = dataframe.loc[i, temp_name] # Td is equal to T\n        \n        else: # Everything stays the same\n            RH_cor[i] = dataframe.loc[i, rh_name]\n            Td_cor[i] = dataframe.loc[i, td_name]\n            \n    # Creating columns for the lists to merge into the dataframe\n    dataframe[rh_cor_name] = RH_cor\n    dataframe[td_cor_name] = Td_cor\n    \n    \n    ## Initializing daily and monthly temperature averages for plotting\n    \n    # Create index using the time column\n    dataframe = dataframe.sort_values('Time_fixed')\n    dataframe = dataframe.set_index('Time_fixed', drop=False)\n    \n    # Resample by day and calculate daily min, max, avg for temperature\n    daily_summary_T = dataframe[temp_name].resample('1D')\\\n        .agg(['mean', 'min', 'max']).dropna().reset_index()\n    daily_summary_T.columns = ['Date', 'T_avg', 'T_min', 'T_max']\n    \n    daily_summary_T['DateTime'] = pd.to_datetime(daily_summary_T['Date'])\n    daily_summary_T = daily_summary_T.set_index('Date')\n    monthly_summary_T = daily_summary_T.resample('ME')\\\n        .agg({'T_avg': 'mean','T_min': 'min','T_max': 'max'})\\\n            .dropna().reset_index()\n            \n            \n    ## Initializing daily and monthly relative humidity averages for plotting\n            \n    # Resample by day and calculate daily min, max, avg for RH\n    daily_summary_rh = dataframe[rh_cor_name].resample('1D')\\\n        .agg(['mean', 'min', 'max']).dropna().reset_index()\n    daily_summary_rh.columns = ['DateTime', 'RH_avg', 'RH_min', 'RH_max']\n    \n    # Resample by day and calculate daily min, max, avg for RH\n    daily_summary_rh = dataframe[rh_cor_name].resample('1D')\\\n        .agg(['mean', 'min', 'max']).dropna().reset_index()\n    daily_summary_rh.columns = ['DateTime', 'RH_avg', 'RH_min', 'RH_max']\n    \n    daily_summary_rh['DateTime'] = pd.to_datetime(daily_summary_rh['DateTime'])\n    daily_summary_rh = daily_summary_rh.set_index('DateTime', drop=False)\n    monthly_summary_rh = daily_summary_rh.resample('ME')\\\n        .agg({'RH_avg': 'mean','RH_min': 'min','RH_max': 'max'})\\\n            .dropna().reset_index()\n\n    return dataframe, monthly_summary_T, monthly_summary_rh",
      "metadata": {
        "trusted": true,
        "jupyter": {
          "source_hidden": true
        }
      },
      "outputs": [],
      "execution_count": null
    },
    {
      "id": "47025fa2-6768-4dc6-9572-eff84a11b7dc",
      "cell_type": "code",
      "source": "# Function writing a new .csv in your new folder\n\ndef write_csv(basename, dataframe):\n\n    # Creating new file path and name\n    new_file_path = new_files_name + '/PROCESSED_' + os.path.basename(basename)\n    \n    # Prints selected file name\n    print('Writing new file:', os.path.basename(new_file_path), '\\n')\n\n    # Renaming labels to standard\n    dataframe.rename(columns={time_name: 'Datetime (MM/DD/YYYY HR:MN)', \n                              temp_name: 'Temperature (°C)',\n                              rh_name: 'RH (%)',\n                              td_name: 'Dew Point (°C)'}, inplace=True)\n    \n    # Removing custom index\n    dataframe.reset_index(drop=True, inplace=True)\n    \n    # Removing unnecessary columns\n    del dataframe['Time_fixed']\n    \n    # Writing the new dataframe to your computer\n    dataframe.to_csv(new_file_path, index=False, encoding='utf-8-sig')",
      "metadata": {
        "editable": true,
        "slideshow": {
          "slide_type": ""
        },
        "tags": [],
        "trusted": true,
        "jupyter": {
          "source_hidden": true
        }
      },
      "outputs": [],
      "execution_count": null
    },
    {
      "id": "af9e6606-db61-4f49-aa77-7ecfeab36315",
      "cell_type": "code",
      "source": "# Creating plots from the processed data\n\n# Monthly Temperature Plot\ndef plot_monthly_temp(filename, monthly_summary_T):\n\n    print('Plotting: Monthly average, minimum, and maximum temperatures.\\n')\n    \n    # Calculate time differences between consecutive months\n    date_diffs = monthly_summary_T['Date'].diff()\n\n    # Identify gaps larger than 1 month\n    gaps = monthly_summary_T[date_diffs > pd.Timedelta(days=31)]\n\n    #plt.figure(figsize=(12, 3))\n    plt.figure(figsize=(12, 3))\n\n    # Plot monthly average, min, and max\n    plt.plot(\n        monthly_summary_T['Date'], \n        monthly_summary_T['T_avg'], \n        label='Average Temp', \n        color='black', \n        linewidth=2.5\n    )\n    plt.plot(\n        monthly_summary_T['Date'], \n        monthly_summary_T['T_min'], \n        label='Min Temp', \n        color='blue', \n        linestyle='dashdot', \n        linewidth=0.5\n    )\n    plt.plot(\n        monthly_summary_T['Date'], \n        monthly_summary_T['T_max'], \n        label='Max Temp', \n        color='red', \n        linestyle='dashdot', \n        linewidth=0.5\n    )\n\n    plt.title('Monthly Temperature Summary:')\n    plt.xlabel('Date')\n    plt.ylabel('Temperature')\n\n    ax = plt.gca()\n\n    # Custom tick dates\n    custom_tick_dates = [\n        datetime(2006, 1, 1), datetime(2007, 1, 1), datetime(2008, 1, 1),\n        datetime(2009, 1, 1), datetime(2010, 1, 1), datetime(2011, 1, 1),\n        datetime(2012, 1, 1), datetime(2013, 1, 1), datetime(2014, 1, 1),\n        datetime(2015, 1, 1), datetime(2016, 1, 1), datetime(2017, 1, 1),\n        datetime(2018, 1, 1), datetime(2019, 1, 1), datetime(2020, 1, 1),\n        datetime(2021, 1, 1), datetime(2022, 1, 1), datetime(2023, 1, 1),\n        datetime(2024, 1, 1),\n    ]\n    \n    ax.set_xticks(custom_tick_dates)\n    \n    # Format tick labels as dates\n    ax.xaxis.set_major_formatter(mdates.DateFormatter('%Y-%m'))\n\n    plt.gcf().autofmt_xdate()\n\n    # Shade missing data regions\n    for i, row in gaps.iterrows():\n        gap_start = monthly_summary_T.loc[i - 1, 'Date']\n        gap_end = row['Date']\n        ax.axvspan(gap_start, gap_end, color='gray', alpha=0.3)\n\n    fig1 = plt.gcf()\n    \n    plt.legend()\n    plt.show()\n\n    fig1.set_size_inches(12, 6)\n\n    fig1.savefig(new_plots_name + '/' + os.path.basename(filename.replace('csv', 'png')))\n\n# Monthly Relative Humidity Plot\ndef plot_monthly_rh(filename, monthly_summary_rh):\n\n    print('Plotting: Monthly average, minimum, and maximum relative humidity.\\n')\n    \n    # Calculate time differences between consecutive months\n    date_diffs = monthly_summary_rh['DateTime'].diff()\n\n    # Identify gaps larger than 1 month\n    gaps = monthly_summary_rh[date_diffs > pd.Timedelta(days=31)]\n\n    #plt.figure(figsize=(12, 3))\n    plt.figure(figsize=(12, 3))\n\n    # Plot monthly average, min, and max RH\n    plt.plot(\n        monthly_summary_rh['DateTime'], \n        monthly_summary_rh['RH_avg'], \n        label='Average RH', \n        color='black', \n        linewidth=2.5\n    )\n    plt.plot(\n        monthly_summary_rh['DateTime'], \n        monthly_summary_rh['RH_min'], \n        label='Min RH', \n        color='blue', \n        linestyle='dashdot', \n        linewidth=0.5\n    )\n    plt.plot(\n        monthly_summary_rh['DateTime'], \n        monthly_summary_rh['RH_max'], \n        label='Max RH', \n        color='red', \n        linestyle='dashdot', \n        linewidth=0.5\n    )\n\n    plt.title('Monthly Relative Humidity Summary:')\n    plt.xlabel('DateTime')\n    plt.ylabel('Relative Humidity')\n\n    ax = plt.gca()\n\n    # Custom tick dates (same as before)\n    custom_tick_dates = [\n        datetime(2006, 1, 1), datetime(2007, 1, 1), datetime(2008, 1, 1),\n        datetime(2009, 1, 1), datetime(2010, 1, 1), datetime(2011, 1, 1),\n        datetime(2012, 1, 1), datetime(2013, 1, 1), datetime(2014, 1, 1),\n        datetime(2015, 1, 1), datetime(2016, 1, 1), datetime(2017, 1, 1),\n        datetime(2018, 1, 1), datetime(2019, 1, 1), datetime(2020, 1, 1),\n        datetime(2021, 1, 1), datetime(2022, 1, 1), datetime(2023, 1, 1),\n        datetime(2024, 1, 1),\n    ]\n    ax.set_xticks(custom_tick_dates)\n    \n    # Format tick labels as dates\n    ax.xaxis.set_major_formatter(mdates.DateFormatter('%Y-%m'))\n\n    plt.gcf().autofmt_xdate()\n\n    # Shade missing data regions\n    for i, row in gaps.iterrows():\n        gap_start = monthly_summary_rh.loc[i - 1, 'DateTime']\n        gap_end = row['DateTime']\n        ax.axvspan(gap_start, gap_end, color='gray', alpha=0.3)\n\n    fig2 = plt.gcf()\n    \n    plt.legend()\n    plt.show()\n\n    fig2.set_size_inches(12, 6)\n\n    fig2.savefig(new_plots_name + '/' + os.path.basename(filename.replace('csv', 'png')))",
      "metadata": {
        "trusted": true,
        "jupyter": {
          "source_hidden": true
        }
      },
      "outputs": [],
      "execution_count": null
    },
    {
      "id": "15cb83ee-dd3e-4d90-8119-d5c3a7e20b1a",
      "cell_type": "code",
      "source": "# Walks through the folder and goes through each file one at a time.\n\ndirectory = folder_path\ncounter = 0\ncompleted = []\nskipped = []\n\n# Iterate over files in directory\nfor path, folders, files in os.walk(directory):\n    \n    for filename in files:\n\n        try:\n            counter = counter + 1\n            print(counter, '.\\n')\n            filename = directory + '/' + filename\n            \n            data, monthly_summary_T, monthly_summary_rh = file_initialize(filename, time_name, rh_name, td_name)\n            print('Initialization complete\\n')\n            \n            write_csv(os.path.basename(filename), data)\n            print('Writing complete\\n')\n            \n            plot_monthly_temp(filename, monthly_summary_T)\n            plot_monthly_rh(filename, monthly_summary_rh)\n            print('Plotting complete\\n')\n            \n            completed.append(os.path.basename(filename))\n      \n        except:\n            print('An error occured. File skipped.\\n')\n            skipped.append(os.path.basename(filename))\n   \n\nprint('---------------------------\\n\\nPROCESSING INFORMATION\\n')\nprint('Files processed:\\n', completed, '\\n')\nprint('Files skipped due to error:\\n', skipped)",
      "metadata": {
        "editable": true,
        "slideshow": {
          "slide_type": ""
        },
        "tags": [],
        "trusted": true,
        "jupyter": {
          "source_hidden": true
        }
      },
      "outputs": [],
      "execution_count": null
    }
  ]
}
