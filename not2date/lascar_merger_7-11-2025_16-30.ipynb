{
  "metadata": {
    "kernelspec": {
      "name": "python",
      "display_name": "Python (Pyodide)",
      "language": "python"
    },
    "language_info": {
      "codemirror_mode": {
        "name": "python",
        "version": 3
      },
      "file_extension": ".py",
      "mimetype": "text/x-python",
      "name": "python",
      "nbconvert_exporter": "python",
      "pygments_lexer": "ipython3",
      "version": "3.8"
    }
  },
  "nbformat_minor": 5,
  "nbformat": 4,
  "cells": [
    {
      "id": "5224e8cb-a275-4db3-b542-2f7211d0edb7",
      "cell_type": "code",
      "source": "# Importing all necessary modules\n\nimport numpy as np\nimport os\nimport matplotlib.pyplot as plt\nimport pandas as pd\nimport matplotlib.dates as mdates\nfrom datetime import datetime\nimport io",
      "metadata": {
        "trusted": true
      },
      "outputs": [],
      "execution_count": 33
    },
    {
      "id": "0f3e29b5-c1ca-41d3-80f7-2915b40249e2",
      "cell_type": "code",
      "source": "# Welcome to the Lahmas Lab Lascar Data Merger!\n# Please answer the questions below and run your code directly in a jupyter notebook.\n\n# Where are the files you would like to process?\nold_data_file = r''\nnew_data_file = r''\n\n# What is the name of the time variable?\ntime_name = ''\n\n# What will the name of the new file be?\nnew_file_name = ''\n\n# Where will your new folder be?\nnew_folder_path = ''\n\n# What will the name be of your new folder?\nnew_folder_name = '' # Don't use spaces or special characters.",
      "metadata": {
        "trusted": true
      },
      "outputs": [],
      "execution_count": 37
    },
    {
      "id": "c6c0eadb-4996-4840-92ff-9e5a35edad11",
      "cell_type": "code",
      "source": "# Creating the new folder where all the processed files will end up.\n\nnew_path = new_folder_path + '/' + new_folder_name\n\nif os.path.exists(new_path):\n    print('\\nThis folder already exists!\\n\\nIf you wish to continue with this folder anyway, \\\nrun the next block.\\nOtherwise, rewrite the folder path/name in block 1.\\n')\n\nelse:\n    os.makedirs(new_path)\n    print('\\nYour new folder path is:\\n\"', new_path, '\"\\n\\nRun next block\\n')",
      "metadata": {
        "trusted": true
      },
      "outputs": [
        {
          "name": "stdout",
          "output_type": "stream",
          "text": "\nThis folder already exists!\n\nIf you wish to continue with this folder anyway, run the next block.\nOtherwise, rewrite the folder path/name in block 1.\n\n"
        }
      ],
      "execution_count": 38
    },
    {
      "id": "d9230b57-dfc3-4d9a-b00b-39e93fd78b68",
      "cell_type": "code",
      "source": "dataframe1 = pd.read_csv(old_data_file)\ndataframe2 = pd.read_csv(new_data_file)\n\ndataframe = pd.concat([dataframe1,dataframe2])\n\ndataframe['Time_fixed'] = pd.to_datetime(dataframe[time_name])\n\ndataframe = dataframe.sort_values('Time_fixed').reset_index(drop=True)\n\ndataframe = dataframe.drop_duplicates()\n\ndel dataframe['Time_fixed']",
      "metadata": {
        "trusted": true
      },
      "outputs": [],
      "execution_count": 39
    },
    {
      "id": "ad76c722-0b4b-4e7c-b725-1ae0feefc8c7",
      "cell_type": "code",
      "source": "new_file_path = new_folder_path + '/' + new_folder_name + '/' + new_file_name\n\n# Writing the new dataframe to your computer\ndataframe.to_csv(new_file_path, index=False, encoding='utf-8-sig')",
      "metadata": {
        "trusted": true
      },
      "outputs": [],
      "execution_count": 40
    }
  ]
}
